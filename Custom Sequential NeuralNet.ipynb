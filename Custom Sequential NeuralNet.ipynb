{
 "cells": [
  {
   "cell_type": "code",
   "execution_count": 251,
   "id": "5dfcc01c",
   "metadata": {},
   "outputs": [],
   "source": [
    "import numpy as np\n",
    "import pandas as pd\n",
    "import seaborn as sns\n",
    "from matplotlib import pyplot as plt\n",
    "import tensorflow as tf\n",
    "from tensorflow import keras\n",
    "from tensorflow.keras.callbacks import TensorBoard\n",
    "import sys\n",
    "from tensorflow.keras.layers import Dropout\n",
    "from matplotlib import pyplot as plt"
   ]
  },
  {
   "cell_type": "code",
   "execution_count": 11,
   "id": "51857d2d",
   "metadata": {},
   "outputs": [],
   "source": [
    "df = pd.read_csv(\"heart.csv\")"
   ]
  },
  {
   "cell_type": "code",
   "execution_count": 12,
   "id": "a7399d79",
   "metadata": {},
   "outputs": [],
   "source": [
    "X = df.drop([\"output\",\"fbs\",\"restecg\"],axis=1)\n",
    "y = df[\"output\"]"
   ]
  },
  {
   "cell_type": "code",
   "execution_count": 201,
   "id": "cf8a932f",
   "metadata": {},
   "outputs": [],
   "source": [
    "from sklearn.model_selection import train_test_split\n",
    "X_train, X_test, y_train, y_test = train_test_split(X, y, test_size=0.20, random_state=42)"
   ]
  },
  {
   "cell_type": "code",
   "execution_count": 25,
   "id": "b42b1c65",
   "metadata": {},
   "outputs": [],
   "source": [
    "def custom_nn(hidden_layer_nodes,activations,dropout_nodes ,epoch_num,output_act,batch_size):\n",
    "    save_loc = os.getcwd()+\"\\\\save\\\\\"\n",
    "    \n",
    "    hidden_layers = len(hidden_layer_nodes)\n",
    "\n",
    "    if hidden_layers != len(dropout_nodes):\n",
    "        print(\"Parameter Mismatch : hidden_layers and dropout_nodes length does not match\")\n",
    "        print(\"Add 0 to not use dropout\")\n",
    "        sys.exit(1)\n",
    "    \n",
    "    model = keras.models.Sequential()\n",
    "    model.add(keras.layers.Flatten())\n",
    "    \n",
    "    for i in range(hidden_layers):\n",
    "        model.add(keras.layers.Dense(hidden_layer_nodes[i], activation = activations[i],\n",
    "                                    kernel_initializer=tf.keras.initializers.HeNormal(seed=0)))\n",
    "        if dropout_nodes[i] != 0:\n",
    "            model.add(keras.layers.Dropout(dropout_nodes[i]))\n",
    "          \n",
    "    model.add(keras.layers.Dense(len(y.value_counts()), activation = output_act))\n",
    "    \n",
    "    model_name = \"{}-dense_{}-nodes_{}-drop_{}-act_{}-outact_{}-epoch_{}-batch\".format(hidden_layers,hidden_layer_nodes,\n",
    "                                                                    dropout_nodes,activations,output_act,epoch_num,batch_size)\n",
    "    \n",
    "    if os.path.isdir(save_loc+model_name):\n",
    "        model_name = model_name + str(int(time.time()))\n",
    "    \n",
    "    tensorboard = TensorBoard(log_dir=\"logs/{}\".format(model_name))\n",
    "    \n",
    "    model.compile(loss = \"sparse_categorical_crossentropy\",\n",
    "             optimizer = \"adam\",\n",
    "             metrics = [\"accuracy\"])\n",
    "    \n",
    "    model.fit(X_train, y_train,batch_size=batch_size, validation_data = (X_test, y_test),\n",
    "              epochs = epoch_num, callbacks =[tensorboard])\n",
    "    \n",
    "    print()\n",
    "    print(model.summary())\n",
    "    print()\n",
    "    \n",
    "    print()\n",
    "    print('Model Saved-')\n",
    "    model.save(save_loc+model_name)\n",
    "    print(\"Tensorboard event saved as : \" + model_name)\n",
    "    \n",
    "    return model"
   ]
  },
  {
   "cell_type": "markdown",
   "id": "220317eb",
   "metadata": {},
   "source": [
    "tensorboard --logdir logs"
   ]
  },
  {
   "cell_type": "markdown",
   "id": "be0b274f",
   "metadata": {},
   "source": [
    "model in save\n",
    "log in logs"
   ]
  },
  {
   "cell_type": "code",
   "execution_count": 28,
   "id": "e5d4f3d7",
   "metadata": {},
   "outputs": [
    {
     "name": "stdout",
     "output_type": "stream",
     "text": [
      "Epoch 1/20\n",
      "8/8 [==============================] - 1s 40ms/step - loss: 0.7509 - accuracy: 0.4917 - val_loss: 0.6314 - val_accuracy: 0.5410\n",
      "Epoch 2/20\n",
      "8/8 [==============================] - 0s 5ms/step - loss: 0.6507 - accuracy: 0.5992 - val_loss: 0.6124 - val_accuracy: 0.6721\n",
      "Epoch 3/20\n",
      "8/8 [==============================] - 0s 5ms/step - loss: 0.6461 - accuracy: 0.5909 - val_loss: 0.5853 - val_accuracy: 0.7869\n",
      "Epoch 4/20\n",
      "8/8 [==============================] - 0s 4ms/step - loss: 0.6343 - accuracy: 0.6488 - val_loss: 0.5867 - val_accuracy: 0.6230\n",
      "Epoch 5/20\n",
      "8/8 [==============================] - 0s 5ms/step - loss: 0.6260 - accuracy: 0.6570 - val_loss: 0.5916 - val_accuracy: 0.6557\n",
      "Epoch 6/20\n",
      "8/8 [==============================] - 0s 4ms/step - loss: 0.6294 - accuracy: 0.6364 - val_loss: 0.5696 - val_accuracy: 0.7869\n",
      "Epoch 7/20\n",
      "8/8 [==============================] - 0s 5ms/step - loss: 0.6219 - accuracy: 0.6570 - val_loss: 0.5693 - val_accuracy: 0.6721\n",
      "Epoch 8/20\n",
      "8/8 [==============================] - 0s 4ms/step - loss: 0.6098 - accuracy: 0.6488 - val_loss: 0.5532 - val_accuracy: 0.7541\n",
      "Epoch 9/20\n",
      "8/8 [==============================] - 0s 7ms/step - loss: 0.6182 - accuracy: 0.6322 - val_loss: 0.5561 - val_accuracy: 0.7377\n",
      "Epoch 10/20\n",
      "8/8 [==============================] - 0s 6ms/step - loss: 0.6107 - accuracy: 0.6405 - val_loss: 0.5479 - val_accuracy: 0.7705\n",
      "Epoch 11/20\n",
      "8/8 [==============================] - 0s 6ms/step - loss: 0.6049 - accuracy: 0.6612 - val_loss: 0.5432 - val_accuracy: 0.8525\n",
      "Epoch 12/20\n",
      "8/8 [==============================] - 0s 6ms/step - loss: 0.6173 - accuracy: 0.6570 - val_loss: 0.5439 - val_accuracy: 0.7541\n",
      "Epoch 13/20\n",
      "8/8 [==============================] - 0s 5ms/step - loss: 0.6136 - accuracy: 0.6446 - val_loss: 0.5593 - val_accuracy: 0.7377\n",
      "Epoch 14/20\n",
      "8/8 [==============================] - 0s 5ms/step - loss: 0.6069 - accuracy: 0.6529 - val_loss: 0.5453 - val_accuracy: 0.7705\n",
      "Epoch 15/20\n",
      "8/8 [==============================] - 0s 5ms/step - loss: 0.6069 - accuracy: 0.6612 - val_loss: 0.5498 - val_accuracy: 0.7049\n",
      "Epoch 16/20\n",
      "8/8 [==============================] - 0s 5ms/step - loss: 0.6090 - accuracy: 0.6240 - val_loss: 0.5594 - val_accuracy: 0.7705\n",
      "Epoch 17/20\n",
      "8/8 [==============================] - 0s 5ms/step - loss: 0.6129 - accuracy: 0.6322 - val_loss: 0.5490 - val_accuracy: 0.7869\n",
      "Epoch 18/20\n",
      "8/8 [==============================] - 0s 7ms/step - loss: 0.6145 - accuracy: 0.6488 - val_loss: 0.5735 - val_accuracy: 0.7213\n",
      "Epoch 19/20\n",
      "8/8 [==============================] - 0s 7ms/step - loss: 0.6163 - accuracy: 0.6570 - val_loss: 0.5785 - val_accuracy: 0.7213\n",
      "Epoch 20/20\n",
      "8/8 [==============================] - 0s 6ms/step - loss: 0.6256 - accuracy: 0.6281 - val_loss: 0.5675 - val_accuracy: 0.7541\n",
      "\n",
      "Model: \"sequential_5\"\n",
      "_________________________________________________________________\n",
      "Layer (type)                 Output Shape              Param #   \n",
      "=================================================================\n",
      "flatten_5 (Flatten)          (None, 11)                0         \n",
      "_________________________________________________________________\n",
      "dense_17 (Dense)             (None, 50)                600       \n",
      "_________________________________________________________________\n",
      "dense_18 (Dense)             (None, 50)                2550      \n",
      "_________________________________________________________________\n",
      "dense_19 (Dense)             (None, 200)               10200     \n",
      "_________________________________________________________________\n",
      "dense_20 (Dense)             (None, 2)                 402       \n",
      "=================================================================\n",
      "Total params: 13,752\n",
      "Trainable params: 13,752\n",
      "Non-trainable params: 0\n",
      "_________________________________________________________________\n",
      "None\n",
      "\n",
      "\n",
      "Model Saved-\n",
      "INFO:tensorflow:Assets written to: C:\\Users\\Home\\Desktop\\TO DO ML\\save\\3-dense_[50, 50, 200]-nodes_[0, 0, 0]-drop_['relu', 'relu', 'sigmoid']-act_softmax-outact_20-epoch_32-batch1654530314\\assets\n",
      "Tensorboard event saved as : 3-dense_[50, 50, 200]-nodes_[0, 0, 0]-drop_['relu', 'relu', 'sigmoid']-act_softmax-outact_20-epoch_32-batch1654530314\n"
     ]
    }
   ],
   "source": [
    "model = custom_nn([50,50,200],[\"relu\",\"relu\",\"sigmoid\"],[0,0,0],20,\"softmax\",32)"
   ]
  },
  {
   "cell_type": "code",
   "execution_count": 21,
   "id": "8db457cf",
   "metadata": {},
   "outputs": [
    {
     "name": "stdout",
     "output_type": "stream",
     "text": [
      "8/8 [==============================] - 0s 999us/step - loss: 0.6572 - accuracy: 0.5785\n",
      "2/2 [==============================] - 0s 998us/step - loss: 0.6078 - accuracy: 0.6721\n"
     ]
    },
    {
     "data": {
      "text/plain": [
       "[0.6078282594680786, 0.6721311211585999]"
      ]
     },
     "execution_count": 21,
     "metadata": {},
     "output_type": "execute_result"
    }
   ],
   "source": [
    "model.evaluate(X_train, y_train)\n",
    "model.evaluate(X_test, y_test)"
   ]
  },
  {
   "cell_type": "code",
   "execution_count": 32,
   "id": "1634fffd",
   "metadata": {},
   "outputs": [],
   "source": [
    "def custom_nn_no(hidden_layer_nodes,activations,dropout_nodes ,epoch_num,output_act,batch_size):    \n",
    "    hidden_layers = len(hidden_layer_nodes)\n",
    "\n",
    "    if hidden_layers != len(dropout_nodes):\n",
    "        print(\"Parameter Mismatch : hidden_layers and dropout_nodes length does not match\")\n",
    "        print(\"Add 0 to not use dropout\")\n",
    "        sys.exit(1)\n",
    "    \n",
    "    model = keras.models.Sequential()\n",
    "    model.add(keras.layers.Flatten())\n",
    "    \n",
    "    for i in range(hidden_layers):\n",
    "        model.add(keras.layers.Dense(hidden_layer_nodes[i], activation = activations[i],\n",
    "                                    kernel_initializer=tf.keras.initializers.HeNormal(seed=0)))\n",
    "        if dropout_nodes[i] != 0:\n",
    "            model.add(keras.layers.Dropout(dropout_nodes[i]))\n",
    "          \n",
    "    model.add(keras.layers.Dense(len(y.value_counts()), activation = output_act))\n",
    "    \n",
    "#     model_name = \"{}-dense_{}-nodes_{}-drop_{}-act_{}-outact_{}-epoch_{}-batch\".format(hidden_layers,hidden_layer_nodes,\n",
    "#                                                                     dropout_nodes,activations,output_act,epoch_num,batch_size)\n",
    "    \n",
    "    model.compile(loss = \"sparse_categorical_crossentropy\",\n",
    "             optimizer = \"adam\",\n",
    "             metrics = [\"accuracy\"])\n",
    "    \n",
    "    model.fit(X_train, y_train,batch_size=batch_size, validation_data = (X_test, y_test),\n",
    "              epochs = epoch_num)\n",
    "    \n",
    "    model.summary()\n",
    "   \n",
    "    return model"
   ]
  },
  {
   "cell_type": "code",
   "execution_count": 33,
   "id": "bf93e0f6",
   "metadata": {},
   "outputs": [
    {
     "name": "stdout",
     "output_type": "stream",
     "text": [
      "Epoch 1/20\n",
      "8/8 [==============================] - 0s 18ms/step - loss: 0.6651 - accuracy: 0.5785 - val_loss: 0.5852 - val_accuracy: 0.7213\n",
      "Epoch 2/20\n",
      "8/8 [==============================] - 0s 4ms/step - loss: 0.6394 - accuracy: 0.6281 - val_loss: 0.5965 - val_accuracy: 0.6721\n",
      "Epoch 3/20\n",
      "8/8 [==============================] - 0s 4ms/step - loss: 0.6349 - accuracy: 0.6488 - val_loss: 0.5978 - val_accuracy: 0.6721\n",
      "Epoch 4/20\n",
      "8/8 [==============================] - 0s 4ms/step - loss: 0.6269 - accuracy: 0.6364 - val_loss: 0.5877 - val_accuracy: 0.7869\n",
      "Epoch 5/20\n",
      "8/8 [==============================] - 0s 4ms/step - loss: 0.6257 - accuracy: 0.6777 - val_loss: 0.5876 - val_accuracy: 0.7377\n",
      "Epoch 6/20\n",
      "8/8 [==============================] - 0s 4ms/step - loss: 0.6359 - accuracy: 0.6488 - val_loss: 0.5639 - val_accuracy: 0.7377\n",
      "Epoch 7/20\n",
      "8/8 [==============================] - 0s 4ms/step - loss: 0.6292 - accuracy: 0.6488 - val_loss: 0.5669 - val_accuracy: 0.7049\n",
      "Epoch 8/20\n",
      "8/8 [==============================] - 0s 4ms/step - loss: 0.6296 - accuracy: 0.6529 - val_loss: 0.5445 - val_accuracy: 0.7705\n",
      "Epoch 9/20\n",
      "8/8 [==============================] - 0s 4ms/step - loss: 0.6089 - accuracy: 0.6694 - val_loss: 0.5564 - val_accuracy: 0.7541\n",
      "Epoch 10/20\n",
      "8/8 [==============================] - 0s 4ms/step - loss: 0.6225 - accuracy: 0.6529 - val_loss: 0.5672 - val_accuracy: 0.6721\n",
      "Epoch 11/20\n",
      "8/8 [==============================] - 0s 4ms/step - loss: 0.6153 - accuracy: 0.6488 - val_loss: 0.5706 - val_accuracy: 0.7705\n",
      "Epoch 12/20\n",
      "8/8 [==============================] - 0s 4ms/step - loss: 0.6255 - accuracy: 0.6529 - val_loss: 0.5627 - val_accuracy: 0.7869\n",
      "Epoch 13/20\n",
      "8/8 [==============================] - 0s 4ms/step - loss: 0.6205 - accuracy: 0.6612 - val_loss: 0.5570 - val_accuracy: 0.7869\n",
      "Epoch 14/20\n",
      "8/8 [==============================] - 0s 4ms/step - loss: 0.6140 - accuracy: 0.6694 - val_loss: 0.5470 - val_accuracy: 0.7213\n",
      "Epoch 15/20\n",
      "8/8 [==============================] - 0s 4ms/step - loss: 0.6102 - accuracy: 0.6818 - val_loss: 0.5537 - val_accuracy: 0.7705\n",
      "Epoch 16/20\n",
      "8/8 [==============================] - 0s 4ms/step - loss: 0.6204 - accuracy: 0.6818 - val_loss: 0.5844 - val_accuracy: 0.6885\n",
      "Epoch 17/20\n",
      "8/8 [==============================] - 0s 4ms/step - loss: 0.6269 - accuracy: 0.6570 - val_loss: 0.5771 - val_accuracy: 0.8033\n",
      "Epoch 18/20\n",
      "8/8 [==============================] - 0s 4ms/step - loss: 0.6291 - accuracy: 0.6777 - val_loss: 0.5974 - val_accuracy: 0.7213\n",
      "Epoch 19/20\n",
      "8/8 [==============================] - 0s 4ms/step - loss: 0.6288 - accuracy: 0.6322 - val_loss: 0.5846 - val_accuracy: 0.7049\n",
      "Epoch 20/20\n",
      "8/8 [==============================] - 0s 4ms/step - loss: 0.6182 - accuracy: 0.6942 - val_loss: 0.5516 - val_accuracy: 0.7705\n",
      "Model: \"sequential_7\"\n",
      "_________________________________________________________________\n",
      "Layer (type)                 Output Shape              Param #   \n",
      "=================================================================\n",
      "flatten_7 (Flatten)          (None, 11)                0         \n",
      "_________________________________________________________________\n",
      "dense_25 (Dense)             (None, 50)                600       \n",
      "_________________________________________________________________\n",
      "dense_26 (Dense)             (None, 50)                2550      \n",
      "_________________________________________________________________\n",
      "dense_27 (Dense)             (None, 200)               10200     \n",
      "_________________________________________________________________\n",
      "dense_28 (Dense)             (None, 2)                 402       \n",
      "=================================================================\n",
      "Total params: 13,752\n",
      "Trainable params: 13,752\n",
      "Non-trainable params: 0\n",
      "_________________________________________________________________\n"
     ]
    },
    {
     "data": {
      "text/plain": [
       "<keras.engine.sequential.Sequential at 0x2736ce3fbb0>"
      ]
     },
     "execution_count": 33,
     "metadata": {},
     "output_type": "execute_result"
    }
   ],
   "source": [
    "custom_nn_no([50,50,200],[\"relu\",\"relu\",\"sigmoid\"],[0,0,0],20,\"softmax\",32)"
   ]
  },
  {
   "cell_type": "code",
   "execution_count": 302,
   "id": "fc4c0d7c",
   "metadata": {},
   "outputs": [],
   "source": [
    "class CustomNNClassifier:\n",
    "    def __init__(self,hidden_layer_nodes,activations,dropout_nodes = None ,epoch_num = 20 ,output_act = \"softmax\",batch_size = 32):\n",
    "        self.hidden_layer_nodes = hidden_layer_nodes\n",
    "        self.activations = activations\n",
    "        self.dropout_nodes = dropout_nodes\n",
    "        self.epoch_num = epoch_num\n",
    "        self.output_act = output_act\n",
    "        self.batch_size = batch_size\n",
    "        self.hidden_layers = len(self.hidden_layer_nodes)\n",
    "        \n",
    "        self.fit_stat =  False\n",
    "        # hard coded stuff\n",
    "        initializer = tf.keras.initializers.HeNormal(seed=0)\n",
    "#         initializer = keras.initializers.glorot_normal(seed=0)\n",
    "        \n",
    "        self.kernel_init =  initializer\n",
    "        self.bias_init = initializer\n",
    "        #check/fix/process stuff\n",
    "        self.autoinit()\n",
    "        self.integrity_check()\n",
    "        self.build()\n",
    "        \n",
    "# other arrtibutes- self.model and self.history\n",
    "        \n",
    "    def autoinit(self):\n",
    "        #dropout\n",
    "        if self.dropout_nodes == None:\n",
    "            self.dropout_nodes = self.hidden_layers * [0]\n",
    "        #dense-activation    \n",
    "        if type(self.activations) == str:\n",
    "            self.activations =  self.hidden_layers * [self.activations]       \n",
    "        elif type(self.activations) == list:\n",
    "            if self.hidden_layers > 1 and len(self.activations) == 1:\n",
    "                self.activations = self.hidden_layers * self.activations\n",
    "        \n",
    "    def integrity_check(self):\n",
    "#         if self.hidden_layers != len(self.dropout_nodes): # fixed in autoinit\n",
    "#             print(\"Parameter Mismatch : hidden_layers and dropout_nodes length does not match\")\n",
    "#             print(\"Add 0 to not use dropout\")\n",
    "#             sys.exit(1)\n",
    "        if self.hidden_layers != len(self.activations):\n",
    "            print(\"Parameter Mismatch : hidden_layers and activations length does not match\")\n",
    "            print(\"To apply the same activation pass a string or a list with only one activation, Example: 'relu' or ['relu']\")\n",
    "            sys.exit(1)\n",
    "    \n",
    "    def build(self): # build only the input and hidden layer. the output is in fit\n",
    "        self.model = keras.models.Sequential()\n",
    "        self.model.add(keras.layers.Flatten())\n",
    "    \n",
    "        for i in range(self.hidden_layers):\n",
    "            self.model.add(keras.layers.Dense(self.hidden_layer_nodes[i],\n",
    "                                         activation = self.activations[i],\n",
    "                                         kernel_initializer= self.kernel_init,\n",
    "                                         bias_initializer = self.bias_init))\n",
    "            if self.dropout_nodes[i] != 0:\n",
    "                self.model.add(keras.layers.Dropout(self.dropout_nodes[i]))\n",
    "\n",
    "    def details(self):\n",
    "        model_name = \"{}-dense_{}-nodes_{}-drop_{}-act_{}-outact_{}-epoch_{}-batch\".format(self.hidden_layers,\n",
    "                                                                                           self.hidden_layer_nodes,\n",
    "                                                                                           self.dropout_nodes,\n",
    "                                                                                           self.activations,\n",
    "                                                                                           self.output_act,\n",
    "                                                                                           self.epoch_num,\n",
    "                                                                                           self.batch_size)\n",
    "        print(\"Model Structure : \\n\" + model_name)\n",
    "        \n",
    "        if self.fit_stat == False:\n",
    "            print(\"Fit the model to get model summery\")\n",
    "        else:\n",
    "            self.model.summary()\n",
    "        \n",
    "        \n",
    "    def compile_(self):\n",
    "        self.model.compile(loss = \"sparse_categorical_crossentropy\",optimizer = \"adam\",metrics = [\"accuracy\"])\n",
    "    \n",
    "    def visualize(self):    \n",
    "        if self.fit_stat == False:\n",
    "            print(\"Fit the model to visualize train and test error and accuracy\")\n",
    "        else:\n",
    "            print(\"Training:\")\n",
    "            self.model.evaluate(X_train, y_train)\n",
    "            print(\"Testing:\")\n",
    "            self.model.evaluate(X_test, y_test)\n",
    "        \n",
    "            plt.plot(self.history.history['accuracy'])\n",
    "            plt.plot(self.history.history['val_accuracy'])\n",
    "            plt.title('Model Accuracy')\n",
    "            plt.ylabel('accuracy')\n",
    "            plt.xlabel('epoch')\n",
    "            plt.legend(['train', 'test'], loc='upper left')\n",
    "            plt.show()\n",
    "        \n",
    "\n",
    "            plt.plot(self.history.history['loss'])\n",
    "            plt.plot(self.history.history['val_loss'])\n",
    "            plt.title('Model Loss')\n",
    "            plt.ylabel('loss')\n",
    "            plt.xlabel('epoch')\n",
    "            plt.legend(['train', 'test'], loc='upper left')\n",
    "            plt.show()\n",
    "        \n",
    "    def fit(self,X_train, X_test, y_train, y_test): # output layer -> compile -> fit\n",
    "        \n",
    "        self.model.add(keras.layers.Dense(len(y_train.value_counts()), activation = self.output_act))\n",
    "        \n",
    "        self.compile_()\n",
    "        \n",
    "        self.history = self.model.fit(X_train, y_train,batch_size= self.batch_size, validation_data = (X_test, y_test),epochs = self.epoch_num)\n",
    "        self.fit_stat =  True\n",
    "        \n",
    "        return self.model"
   ]
  },
  {
   "cell_type": "code",
   "execution_count": 307,
   "id": "6ae2b60e",
   "metadata": {},
   "outputs": [],
   "source": [
    "a = CustomNNClassifier([50,50,200],[\"relu\",\"relu\",\"sigmoid\"],[0,0,0],20,\"softmax\",32)"
   ]
  },
  {
   "cell_type": "code",
   "execution_count": 308,
   "id": "8ab82c7c",
   "metadata": {},
   "outputs": [
    {
     "name": "stdout",
     "output_type": "stream",
     "text": [
      "Epoch 1/20\n",
      "8/8 [==============================] - 0s 18ms/step - loss: 0.7000 - accuracy: 0.5165 - val_loss: 0.6272 - val_accuracy: 0.6393\n",
      "Epoch 2/20\n",
      "8/8 [==============================] - 0s 4ms/step - loss: 0.6582 - accuracy: 0.6157 - val_loss: 0.6004 - val_accuracy: 0.6721\n",
      "Epoch 3/20\n",
      "8/8 [==============================] - 0s 4ms/step - loss: 0.6533 - accuracy: 0.5950 - val_loss: 0.5687 - val_accuracy: 0.7869\n",
      "Epoch 4/20\n",
      "8/8 [==============================] - 0s 4ms/step - loss: 0.6173 - accuracy: 0.6529 - val_loss: 0.5700 - val_accuracy: 0.6885\n",
      "Epoch 5/20\n",
      "8/8 [==============================] - 0s 4ms/step - loss: 0.6222 - accuracy: 0.6529 - val_loss: 0.5623 - val_accuracy: 0.8033\n",
      "Epoch 6/20\n",
      "8/8 [==============================] - 0s 4ms/step - loss: 0.6220 - accuracy: 0.6488 - val_loss: 0.5752 - val_accuracy: 0.7049\n",
      "Epoch 7/20\n",
      "8/8 [==============================] - 0s 4ms/step - loss: 0.6178 - accuracy: 0.6529 - val_loss: 0.5758 - val_accuracy: 0.7377\n",
      "Epoch 8/20\n",
      "8/8 [==============================] - 0s 4ms/step - loss: 0.6056 - accuracy: 0.6901 - val_loss: 0.5783 - val_accuracy: 0.7213\n",
      "Epoch 9/20\n",
      "8/8 [==============================] - 0s 4ms/step - loss: 0.6055 - accuracy: 0.6694 - val_loss: 0.5590 - val_accuracy: 0.7213\n",
      "Epoch 10/20\n",
      "8/8 [==============================] - 0s 4ms/step - loss: 0.6089 - accuracy: 0.6529 - val_loss: 0.5567 - val_accuracy: 0.8033\n",
      "Epoch 11/20\n",
      "8/8 [==============================] - 0s 4ms/step - loss: 0.6128 - accuracy: 0.6777 - val_loss: 0.5574 - val_accuracy: 0.7049\n",
      "Epoch 12/20\n",
      "8/8 [==============================] - 0s 4ms/step - loss: 0.6154 - accuracy: 0.6405 - val_loss: 0.5394 - val_accuracy: 0.7377\n",
      "Epoch 13/20\n",
      "8/8 [==============================] - 0s 4ms/step - loss: 0.6186 - accuracy: 0.6446 - val_loss: 0.5537 - val_accuracy: 0.7705\n",
      "Epoch 14/20\n",
      "8/8 [==============================] - 0s 4ms/step - loss: 0.6101 - accuracy: 0.6488 - val_loss: 0.5572 - val_accuracy: 0.7377\n",
      "Epoch 15/20\n",
      "8/8 [==============================] - 0s 4ms/step - loss: 0.6161 - accuracy: 0.6322 - val_loss: 0.5660 - val_accuracy: 0.7869\n",
      "Epoch 16/20\n",
      "8/8 [==============================] - 0s 4ms/step - loss: 0.6053 - accuracy: 0.6405 - val_loss: 0.5601 - val_accuracy: 0.7541\n",
      "Epoch 17/20\n",
      "8/8 [==============================] - 0s 4ms/step - loss: 0.6130 - accuracy: 0.6529 - val_loss: 0.5745 - val_accuracy: 0.6885\n",
      "Epoch 18/20\n",
      "8/8 [==============================] - 0s 4ms/step - loss: 0.6094 - accuracy: 0.6198 - val_loss: 0.5535 - val_accuracy: 0.8033\n",
      "Epoch 19/20\n",
      "8/8 [==============================] - 0s 4ms/step - loss: 0.6027 - accuracy: 0.6612 - val_loss: 0.5644 - val_accuracy: 0.7377\n",
      "Epoch 20/20\n",
      "8/8 [==============================] - 0s 4ms/step - loss: 0.6084 - accuracy: 0.6612 - val_loss: 0.5279 - val_accuracy: 0.7541\n"
     ]
    },
    {
     "data": {
      "text/plain": [
       "<keras.engine.sequential.Sequential at 0x27376f59370>"
      ]
     },
     "execution_count": 308,
     "metadata": {},
     "output_type": "execute_result"
    }
   ],
   "source": [
    "a.fit(X_train, X_test, y_train, y_test)"
   ]
  },
  {
   "cell_type": "code",
   "execution_count": 309,
   "id": "5556d0ca",
   "metadata": {
    "scrolled": true
   },
   "outputs": [
    {
     "name": "stdout",
     "output_type": "stream",
     "text": [
      "Model Structure : \n",
      "3-dense_[50, 50, 200]-nodes_[0, 0, 0]-drop_['relu', 'relu', 'sigmoid']-act_softmax-outact_20-epoch_32-batch\n",
      "Model: \"sequential_45\"\n",
      "_________________________________________________________________\n",
      "Layer (type)                 Output Shape              Param #   \n",
      "=================================================================\n",
      "flatten_45 (Flatten)         (None, 11)                0         \n",
      "_________________________________________________________________\n",
      "dense_166 (Dense)            (None, 50)                600       \n",
      "_________________________________________________________________\n",
      "dense_167 (Dense)            (None, 50)                2550      \n",
      "_________________________________________________________________\n",
      "dense_168 (Dense)            (None, 200)               10200     \n",
      "_________________________________________________________________\n",
      "dense_169 (Dense)            (None, 2)                 402       \n",
      "=================================================================\n",
      "Total params: 13,752\n",
      "Trainable params: 13,752\n",
      "Non-trainable params: 0\n",
      "_________________________________________________________________\n"
     ]
    }
   ],
   "source": [
    "a.details()"
   ]
  },
  {
   "cell_type": "code",
   "execution_count": 311,
   "id": "c35136c9",
   "metadata": {},
   "outputs": [
    {
     "name": "stdout",
     "output_type": "stream",
     "text": [
      "Training:\n",
      "8/8 [==============================] - 0s 1ms/step - loss: 0.5923 - accuracy: 0.6694\n",
      "Testing:\n",
      "2/2 [==============================] - 0s 0s/step - loss: 0.5279 - accuracy: 0.7541\n"
     ]
    },
    {
     "data": {
      "image/png": "[encoded data removed]",
      "text/plain": [
       "<Figure size 432x288 with 1 Axes>"
      ]
     },
     "metadata": {
      "needs_background": "light"
     },
     "output_type": "display_data"
    },
    {
     "data": {
      "image/png": "[encoded data removed]",
      "text/plain": [
       "<Figure size 432x288 with 1 Axes>"
      ]
     },
     "metadata": {
      "needs_background": "light"
     },
     "output_type": "display_data"
    }
   ],
   "source": [
    "a.visualize()"
   ]
  },
  {
   "cell_type": "code",
   "execution_count": null,
   "id": "c67ea4e3",
   "metadata": {},
   "outputs": [],
   "source": []
  },
  {
   "cell_type": "code",
   "execution_count": null,
   "id": "6e2b8668",
   "metadata": {},
   "outputs": [],
   "source": []
  }
 ],
 "metadata": {
  "kernelspec": {
   "display_name": "Python 3 (ipykernel)",
   "language": "python",
   "name": "python3"
  },
  "language_info": {
   "codemirror_mode": {
    "name": "ipython",
    "version": 3
   },
   "file_extension": ".py",
   "mimetype": "text/x-python",
   "name": "python",
   "nbconvert_exporter": "python",
   "pygments_lexer": "ipython3",
   "version": "3.9.7"
  }
 },
 "nbformat": 4,
 "nbformat_minor": 5
}
